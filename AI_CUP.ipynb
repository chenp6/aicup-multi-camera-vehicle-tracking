{
  "cells": [
    {
      "cell_type": "markdown",
      "metadata": {
        "id": "view-in-github",
        "colab_type": "text"
      },
      "source": [
        "<a href=\"https://colab.research.google.com/github/chenp6/aicup-multi-camera-vehicle-tracking/blob/main/AI_CUP.ipynb\" target=\"_parent\"><img src=\"https://colab.research.google.com/assets/colab-badge.svg\" alt=\"Open In Colab\"/></a>"
      ]
    },
    {
      "cell_type": "code",
      "source": [
        "!sudo apt-get install python3.8"
      ],
      "metadata": {
        "colab": {
          "base_uri": "https://localhost:8080/"
        },
        "collapsed": true,
        "id": "Odrp5DbiGARP",
        "outputId": "35ae75dd-b5d1-441e-b38c-bf174c3aa0af"
      },
      "execution_count": null,
      "outputs": [
        {
          "output_type": "stream",
          "name": "stdout",
          "text": [
            "Reading package lists... Done\n",
            "Building dependency tree... Done\n",
            "Reading state information... Done\n",
            "The following additional packages will be installed:\n",
            "  libpython3.8-minimal libpython3.8-stdlib mailcap mime-support\n",
            "  python3.8-minimal\n",
            "Suggested packages:\n",
            "  python3.8-venv binfmt-support\n",
            "The following NEW packages will be installed:\n",
            "  libpython3.8-minimal libpython3.8-stdlib mailcap mime-support python3.8\n",
            "  python3.8-minimal\n",
            "0 upgraded, 6 newly installed, 0 to remove and 45 not upgraded.\n",
            "Need to get 5,103 kB of archives.\n",
            "After this operation, 18.9 MB of additional disk space will be used.\n",
            "Get:1 http://archive.ubuntu.com/ubuntu jammy/main amd64 mailcap all 3.70+nmu1ubuntu1 [23.8 kB]\n",
            "Get:2 http://archive.ubuntu.com/ubuntu jammy/main amd64 mime-support all 3.66 [3,696 B]\n",
            "Get:3 https://ppa.launchpadcontent.net/deadsnakes/ppa/ubuntu jammy/main amd64 libpython3.8-minimal amd64 3.8.19-1+jammy1 [794 kB]\n",
            "Get:4 https://ppa.launchpadcontent.net/deadsnakes/ppa/ubuntu jammy/main amd64 python3.8-minimal amd64 3.8.19-1+jammy1 [2,025 kB]\n",
            "Get:5 https://ppa.launchpadcontent.net/deadsnakes/ppa/ubuntu jammy/main amd64 libpython3.8-stdlib amd64 3.8.19-1+jammy1 [1,817 kB]\n",
            "Get:6 https://ppa.launchpadcontent.net/deadsnakes/ppa/ubuntu jammy/main amd64 python3.8 amd64 3.8.19-1+jammy1 [439 kB]\n",
            "Fetched 5,103 kB in 7s (757 kB/s)\n",
            "debconf: unable to initialize frontend: Dialog\n",
            "debconf: (No usable dialog-like program is installed, so the dialog based frontend cannot be used. at /usr/share/perl5/Debconf/FrontEnd/Dialog.pm line 78, <> line 6.)\n",
            "debconf: falling back to frontend: Readline\n",
            "debconf: unable to initialize frontend: Readline\n",
            "debconf: (This frontend requires a controlling tty.)\n",
            "debconf: falling back to frontend: Teletype\n",
            "dpkg-preconfigure: unable to re-open stdin: \n",
            "Selecting previously unselected package libpython3.8-minimal:amd64.\n",
            "(Reading database ... 121913 files and directories currently installed.)\n",
            "Preparing to unpack .../0-libpython3.8-minimal_3.8.19-1+jammy1_amd64.deb ...\n",
            "Unpacking libpython3.8-minimal:amd64 (3.8.19-1+jammy1) ...\n",
            "Selecting previously unselected package python3.8-minimal.\n",
            "Preparing to unpack .../1-python3.8-minimal_3.8.19-1+jammy1_amd64.deb ...\n",
            "Unpacking python3.8-minimal (3.8.19-1+jammy1) ...\n",
            "Selecting previously unselected package mailcap.\n",
            "Preparing to unpack .../2-mailcap_3.70+nmu1ubuntu1_all.deb ...\n",
            "Unpacking mailcap (3.70+nmu1ubuntu1) ...\n",
            "Selecting previously unselected package mime-support.\n",
            "Preparing to unpack .../3-mime-support_3.66_all.deb ...\n",
            "Unpacking mime-support (3.66) ...\n",
            "Selecting previously unselected package libpython3.8-stdlib:amd64.\n",
            "Preparing to unpack .../4-libpython3.8-stdlib_3.8.19-1+jammy1_amd64.deb ...\n",
            "Unpacking libpython3.8-stdlib:amd64 (3.8.19-1+jammy1) ...\n",
            "Selecting previously unselected package python3.8.\n",
            "Preparing to unpack .../5-python3.8_3.8.19-1+jammy1_amd64.deb ...\n",
            "Unpacking python3.8 (3.8.19-1+jammy1) ...\n",
            "Setting up libpython3.8-minimal:amd64 (3.8.19-1+jammy1) ...\n",
            "Setting up python3.8-minimal (3.8.19-1+jammy1) ...\n",
            "Setting up mailcap (3.70+nmu1ubuntu1) ...\n",
            "Setting up mime-support (3.66) ...\n",
            "Setting up libpython3.8-stdlib:amd64 (3.8.19-1+jammy1) ...\n",
            "Setting up python3.8 (3.8.19-1+jammy1) ...\n",
            "Processing triggers for man-db (2.10.2-1) ...\n"
          ]
        }
      ]
    },
    {
      "cell_type": "code",
      "source": [
        "!sudo update-alternatives --install /usr/bin/python3 python3 /usr/bin/python3.8 1"
      ],
      "metadata": {
        "colab": {
          "base_uri": "https://localhost:8080/"
        },
        "id": "WsVO7MvMIKiD",
        "outputId": "9a874e36-6132-4094-97be-e95e679216f8"
      },
      "execution_count": null,
      "outputs": [
        {
          "output_type": "stream",
          "name": "stdout",
          "text": [
            "update-alternatives: using /usr/bin/python3.8 to provide /usr/bin/python3 (python3) in auto mode\n"
          ]
        }
      ]
    },
    {
      "cell_type": "code",
      "source": [
        "!python --version"
      ],
      "metadata": {
        "colab": {
          "base_uri": "https://localhost:8080/"
        },
        "id": "v-GRfemsHtuo",
        "outputId": "d78b15c5-d4f4-47af-98a6-ad443d370daa"
      },
      "execution_count": null,
      "outputs": [
        {
          "output_type": "stream",
          "name": "stdout",
          "text": [
            "Python 3.8.19\n"
          ]
        }
      ]
    },
    {
      "cell_type": "code",
      "source": [
        "!update-alternatives --config python3\n",
        "!apt-get install python3-pip\n",
        "!python3 -m pip install --upgrade pip --user"
      ],
      "metadata": {
        "colab": {
          "base_uri": "https://localhost:8080/"
        },
        "collapsed": true,
        "id": "23LDZpVTigBe",
        "outputId": "3459ade6-5804-4d2a-fc41-a25b06a33591"
      },
      "execution_count": null,
      "outputs": [
        {
          "output_type": "stream",
          "name": "stdout",
          "text": [
            "There is only one alternative in link group python3 (providing /usr/bin/python3): /usr/bin/python3.8\n",
            "Nothing to configure.\n",
            "Reading package lists... Done\n",
            "Building dependency tree... Done\n",
            "Reading state information... Done\n",
            "The following additional packages will be installed:\n",
            "  python3-setuptools python3-wheel\n",
            "Suggested packages:\n",
            "  python-setuptools-doc\n",
            "The following NEW packages will be installed:\n",
            "  python3-pip python3-setuptools python3-wheel\n",
            "0 upgraded, 3 newly installed, 0 to remove and 45 not upgraded.\n",
            "Need to get 1,677 kB of archives.\n",
            "After this operation, 8,967 kB of additional disk space will be used.\n",
            "Get:1 http://archive.ubuntu.com/ubuntu jammy-updates/main amd64 python3-setuptools all 59.6.0-1.2ubuntu0.22.04.1 [339 kB]\n",
            "Get:2 http://archive.ubuntu.com/ubuntu jammy-updates/universe amd64 python3-wheel all 0.37.1-2ubuntu0.22.04.1 [32.0 kB]\n",
            "Get:3 http://archive.ubuntu.com/ubuntu jammy-updates/universe amd64 python3-pip all 22.0.2+dfsg-1ubuntu0.4 [1,305 kB]\n",
            "Fetched 1,677 kB in 0s (5,926 kB/s)\n",
            "Selecting previously unselected package python3-setuptools.\n",
            "(Reading database ... 122564 files and directories currently installed.)\n",
            "Preparing to unpack .../python3-setuptools_59.6.0-1.2ubuntu0.22.04.1_all.deb ...\n",
            "Unpacking python3-setuptools (59.6.0-1.2ubuntu0.22.04.1) ...\n",
            "Selecting previously unselected package python3-wheel.\n",
            "Preparing to unpack .../python3-wheel_0.37.1-2ubuntu0.22.04.1_all.deb ...\n",
            "Unpacking python3-wheel (0.37.1-2ubuntu0.22.04.1) ...\n",
            "Selecting previously unselected package python3-pip.\n",
            "Preparing to unpack .../python3-pip_22.0.2+dfsg-1ubuntu0.4_all.deb ...\n",
            "Unpacking python3-pip (22.0.2+dfsg-1ubuntu0.4) ...\n",
            "Setting up python3-setuptools (59.6.0-1.2ubuntu0.22.04.1) ...\n",
            "Setting up python3-wheel (0.37.1-2ubuntu0.22.04.1) ...\n",
            "Setting up python3-pip (22.0.2+dfsg-1ubuntu0.4) ...\n",
            "Processing triggers for man-db (2.10.2-1) ...\n",
            "Traceback (most recent call last):\n",
            "  File \"/usr/lib/python3.8/runpy.py\", line 194, in _run_module_as_main\n",
            "    return _run_code(code, main_globals, None,\n",
            "  File \"/usr/lib/python3.8/runpy.py\", line 87, in _run_code\n",
            "    exec(code, run_globals)\n",
            "  File \"/usr/lib/python3/dist-packages/pip/__main__.py\", line 29, in <module>\n",
            "    from pip._internal.cli.main import main as _main\n",
            "  File \"/usr/lib/python3/dist-packages/pip/_internal/cli/main.py\", line 9, in <module>\n",
            "    from pip._internal.cli.autocompletion import autocomplete\n",
            "  File \"/usr/lib/python3/dist-packages/pip/_internal/cli/autocompletion.py\", line 10, in <module>\n",
            "    from pip._internal.cli.main_parser import create_main_parser\n",
            "  File \"/usr/lib/python3/dist-packages/pip/_internal/cli/main_parser.py\", line 8, in <module>\n",
            "    from pip._internal.cli import cmdoptions\n",
            "  File \"/usr/lib/python3/dist-packages/pip/_internal/cli/cmdoptions.py\", line 23, in <module>\n",
            "    from pip._internal.cli.parser import ConfigOptionParser\n",
            "  File \"/usr/lib/python3/dist-packages/pip/_internal/cli/parser.py\", line 12, in <module>\n",
            "    from pip._internal.configuration import Configuration, ConfigurationError\n",
            "  File \"/usr/lib/python3/dist-packages/pip/_internal/configuration.py\", line 26, in <module>\n",
            "    from pip._internal.utils.logging import getLogger\n",
            "  File \"/usr/lib/python3/dist-packages/pip/_internal/utils/logging.py\", line 27, in <module>\n",
            "    from pip._internal.utils.misc import ensure_dir\n",
            "  File \"/usr/lib/python3/dist-packages/pip/_internal/utils/misc.py\", line 39, in <module>\n",
            "    from pip._internal.locations import get_major_minor_version\n",
            "  File \"/usr/lib/python3/dist-packages/pip/_internal/locations/__init__.py\", line 14, in <module>\n",
            "    from . import _distutils, _sysconfig\n",
            "  File \"/usr/lib/python3/dist-packages/pip/_internal/locations/_distutils.py\", line 9, in <module>\n",
            "    from distutils.cmd import Command as DistutilsCommand\n",
            "ModuleNotFoundError: No module named 'distutils.cmd'\n"
          ]
        }
      ]
    },
    {
      "cell_type": "code",
      "source": [
        "!sudo apt install python3.8-distutils"
      ],
      "metadata": {
        "colab": {
          "base_uri": "https://localhost:8080/"
        },
        "collapsed": true,
        "id": "6Q_7fHBFjoLZ",
        "outputId": "f59a203a-4e20-4857-ce71-3525550e295d"
      },
      "execution_count": null,
      "outputs": [
        {
          "output_type": "stream",
          "name": "stdout",
          "text": [
            "Reading package lists... Done\n",
            "Building dependency tree... Done\n",
            "Reading state information... Done\n",
            "The following additional packages will be installed:\n",
            "  python3.8-lib2to3\n",
            "The following NEW packages will be installed:\n",
            "  python3.8-distutils python3.8-lib2to3\n",
            "0 upgraded, 2 newly installed, 0 to remove and 45 not upgraded.\n",
            "Need to get 319 kB of archives.\n",
            "After this operation, 1,237 kB of additional disk space will be used.\n",
            "Get:1 https://ppa.launchpadcontent.net/deadsnakes/ppa/ubuntu jammy/main amd64 python3.8-lib2to3 all 3.8.19-1+jammy1 [126 kB]\n",
            "Get:2 https://ppa.launchpadcontent.net/deadsnakes/ppa/ubuntu jammy/main amd64 python3.8-distutils all 3.8.19-1+jammy1 [193 kB]\n",
            "Fetched 319 kB in 1s (291 kB/s)\n",
            "debconf: unable to initialize frontend: Dialog\n",
            "debconf: (No usable dialog-like program is installed, so the dialog based frontend cannot be used. at /usr/share/perl5/Debconf/FrontEnd/Dialog.pm line 78, <> line 2.)\n",
            "debconf: falling back to frontend: Readline\n",
            "debconf: unable to initialize frontend: Readline\n",
            "debconf: (This frontend requires a controlling tty.)\n",
            "debconf: falling back to frontend: Teletype\n",
            "dpkg-preconfigure: unable to re-open stdin: \n",
            "Selecting previously unselected package python3.8-lib2to3.\n",
            "(Reading database ... 123426 files and directories currently installed.)\n",
            "Preparing to unpack .../python3.8-lib2to3_3.8.19-1+jammy1_all.deb ...\n",
            "Unpacking python3.8-lib2to3 (3.8.19-1+jammy1) ...\n",
            "Selecting previously unselected package python3.8-distutils.\n",
            "Preparing to unpack .../python3.8-distutils_3.8.19-1+jammy1_all.deb ...\n",
            "Unpacking python3.8-distutils (3.8.19-1+jammy1) ...\n",
            "Setting up python3.8-lib2to3 (3.8.19-1+jammy1) ...\n",
            "Setting up python3.8-distutils (3.8.19-1+jammy1) ...\n"
          ]
        }
      ]
    },
    {
      "cell_type": "code",
      "source": [
        "!nvcc --version"
      ],
      "metadata": {
        "colab": {
          "base_uri": "https://localhost:8080/"
        },
        "id": "S8HWxeQIkveU",
        "outputId": "327b2735-4af2-4ef6-e23c-f7aa67101056"
      },
      "execution_count": null,
      "outputs": [
        {
          "output_type": "stream",
          "name": "stdout",
          "text": [
            "nvcc: NVIDIA (R) Cuda compiler driver\n",
            "Copyright (c) 2005-2023 NVIDIA Corporation\n",
            "Built on Tue_Aug_15_22:02:13_PDT_2023\n",
            "Cuda compilation tools, release 12.2, V12.2.140\n",
            "Build cuda_12.2.r12.2/compiler.33191640_0\n"
          ]
        }
      ]
    },
    {
      "cell_type": "code",
      "execution_count": null,
      "metadata": {
        "colab": {
          "base_uri": "https://localhost:8080/",
          "height": 1000
        },
        "id": "qP09bgNFhNeJ",
        "outputId": "1a7c64ba-99b3-457c-db8c-2d017f68e87d"
      },
      "outputs": [
        {
          "output_type": "stream",
          "name": "stdout",
          "text": [
            "Looking in indexes: https://pypi.org/simple, https://download.pytorch.org/whl/cu113\n",
            "Collecting torch==1.11.0+cu113\n",
            "  Downloading https://download.pytorch.org/whl/cu113/torch-1.11.0%2Bcu113-cp38-cp38-linux_x86_64.whl (1637.0 MB)\n",
            "\u001b[2K     \u001b[90m━━━━━━━━━━━━━━━━━━━━━━━━━━━━━━━━━━━━━━━━\u001b[0m \u001b[32m1.6/1.6 GB\u001b[0m \u001b[31m849.2 kB/s\u001b[0m eta \u001b[36m0:00:00\u001b[0m\n",
            "\u001b[?25hCollecting torchvision==0.12.0+cu113\n",
            "  Downloading https://download.pytorch.org/whl/cu113/torchvision-0.12.0%2Bcu113-cp38-cp38-linux_x86_64.whl (22.3 MB)\n",
            "\u001b[2K     \u001b[90m━━━━━━━━━━━━━━━━━━━━━━━━━━━━━━━━━━━━━━━━\u001b[0m \u001b[32m22.3/22.3 MB\u001b[0m \u001b[31m29.9 MB/s\u001b[0m eta \u001b[36m0:00:00\u001b[0m\n",
            "\u001b[?25hCollecting torchaudio==0.11.0\n",
            "  Downloading https://download.pytorch.org/whl/cu113/torchaudio-0.11.0%2Bcu113-cp38-cp38-linux_x86_64.whl (2.9 MB)\n",
            "\u001b[2K     \u001b[90m━━━━━━━━━━━━━━━━━━━━━━━━━━━━━━━━━━━━━━━━\u001b[0m \u001b[32m2.9/2.9 MB\u001b[0m \u001b[31m12.8 MB/s\u001b[0m eta \u001b[36m0:00:00\u001b[0m\n",
            "\u001b[?25hCollecting typing-extensions\n",
            "  Downloading typing_extensions-4.12.2-py3-none-any.whl (37 kB)\n",
            "Collecting requests\n",
            "  Downloading requests-2.32.3-py3-none-any.whl (64 kB)\n",
            "\u001b[2K     \u001b[90m━━━━━━━━━━━━━━━━━━━━━━━━━━━━━━━━━━━━━━━━\u001b[0m \u001b[32m64.9/64.9 KB\u001b[0m \u001b[31m3.7 MB/s\u001b[0m eta \u001b[36m0:00:00\u001b[0m\n",
            "\u001b[?25hCollecting numpy\n",
            "  Downloading numpy-1.24.4-cp38-cp38-manylinux_2_17_x86_64.manylinux2014_x86_64.whl (17.3 MB)\n",
            "\u001b[2K     \u001b[90m━━━━━━━━━━━━━━━━━━━━━━━━━━━━━━━━━━━━━━━━\u001b[0m \u001b[32m17.3/17.3 MB\u001b[0m \u001b[31m53.0 MB/s\u001b[0m eta \u001b[36m0:00:00\u001b[0m\n",
            "\u001b[?25hCollecting pillow!=8.3.*,>=5.3.0\n",
            "  Downloading pillow-10.3.0-cp38-cp38-manylinux_2_28_x86_64.whl (4.5 MB)\n",
            "\u001b[2K     \u001b[90m━━━━━━━━━━━━━━━━━━━━━━━━━━━━━━━━━━━━━━━━\u001b[0m \u001b[32m4.5/4.5 MB\u001b[0m \u001b[31m65.1 MB/s\u001b[0m eta \u001b[36m0:00:00\u001b[0m\n",
            "\u001b[?25hCollecting certifi>=2017.4.17\n",
            "  Downloading certifi-2024.6.2-py3-none-any.whl (164 kB)\n",
            "\u001b[2K     \u001b[90m━━━━━━━━━━━━━━━━━━━━━━━━━━━━━━━━━━━━━━━━\u001b[0m \u001b[32m164.4/164.4 KB\u001b[0m \u001b[31m17.6 MB/s\u001b[0m eta \u001b[36m0:00:00\u001b[0m\n",
            "\u001b[?25hCollecting charset-normalizer<4,>=2\n",
            "  Downloading charset_normalizer-3.3.2-cp38-cp38-manylinux_2_17_x86_64.manylinux2014_x86_64.whl (141 kB)\n",
            "\u001b[2K     \u001b[90m━━━━━━━━━━━━━━━━━━━━━━━━━━━━━━━━━━━━━━━━\u001b[0m \u001b[32m141.1/141.1 KB\u001b[0m \u001b[31m15.6 MB/s\u001b[0m eta \u001b[36m0:00:00\u001b[0m\n",
            "\u001b[?25hCollecting urllib3<3,>=1.21.1\n",
            "  Downloading urllib3-2.2.1-py3-none-any.whl (121 kB)\n",
            "\u001b[2K     \u001b[90m━━━━━━━━━━━━━━━━━━━━━━━━━━━━━━━━━━━━━━━━\u001b[0m \u001b[32m121.1/121.1 KB\u001b[0m \u001b[31m12.6 MB/s\u001b[0m eta \u001b[36m0:00:00\u001b[0m\n",
            "\u001b[?25hCollecting idna<4,>=2.5\n",
            "  Downloading idna-3.7-py3-none-any.whl (66 kB)\n",
            "\u001b[2K     \u001b[90m━━━━━━━━━━━━━━━━━━━━━━━━━━━━━━━━━━━━━━━━\u001b[0m \u001b[32m66.8/66.8 KB\u001b[0m \u001b[31m7.1 MB/s\u001b[0m eta \u001b[36m0:00:00\u001b[0m\n",
            "\u001b[?25hInstalling collected packages: urllib3, typing-extensions, pillow, numpy, idna, charset-normalizer, certifi, torch, requests, torchvision, torchaudio\n",
            "Successfully installed certifi-2024.6.2 charset-normalizer-3.3.2 idna-3.7 numpy-1.24.4 pillow-10.3.0 requests-2.32.3 torch-1.11.0+cu113 torchaudio-0.11.0+cu113 torchvision-0.12.0+cu113 typing-extensions-4.12.2 urllib3-2.2.1\n",
            "\u001b[33mWARNING: Running pip as the 'root' user can result in broken permissions and conflicting behaviour with the system package manager. It is recommended to use a virtual environment instead: https://pip.pypa.io/warnings/venv\u001b[0m\u001b[33m\n",
            "\u001b[0m"
          ]
        },
        {
          "output_type": "display_data",
          "data": {
            "application/vnd.colab-display-data+json": {
              "pip_warning": {
                "packages": [
                  "certifi"
                ]
              },
              "id": "dbff5736fc1241e086d026f6fad4d955"
            }
          },
          "metadata": {}
        }
      ],
      "source": [
        "pip install torch==1.11.0+cu113 torchvision==0.12.0+cu113 torchaudio==0.11.0 --extra-index-url https://download.pytorch.org/whl/cu113\n"
      ]
    },
    {
      "cell_type": "code",
      "source": [
        "!git clone https://github.com/chenp6/aicup-multi-camera-vehicle-tracking.git\n",
        "%cd aicup-multi-camera-vehicle-tracking"
      ],
      "metadata": {
        "colab": {
          "base_uri": "https://localhost:8080/"
        },
        "id": "pg7Pkoj_zjN5",
        "outputId": "d4c07168-aba9-440a-851b-0799dacb08ec"
      },
      "execution_count": null,
      "outputs": [
        {
          "output_type": "stream",
          "name": "stdout",
          "text": [
            "Cloning into 'aicup-multi-camera-vehicle-tracking'...\n",
            "remote: Enumerating objects: 942, done.\u001b[K\n",
            "remote: Counting objects: 100% (942/942), done.\u001b[K\n",
            "remote: Compressing objects: 100% (720/720), done.\u001b[K\n",
            "remote: Total 942 (delta 199), reused 925 (delta 190), pack-reused 0\u001b[K\n",
            "Receiving objects: 100% (942/942), 7.71 MiB | 21.28 MiB/s, done.\n",
            "Resolving deltas: 100% (199/199), done.\n",
            "/content/aicup-multi-camera-vehicle-tracking\n"
          ]
        }
      ]
    },
    {
      "cell_type": "code",
      "source": [
        "!pip install numpy"
      ],
      "metadata": {
        "colab": {
          "base_uri": "https://localhost:8080/"
        },
        "id": "bquKLO_s2O79",
        "outputId": "84588ad2-aa4b-45ce-adfe-8017395a5915"
      },
      "execution_count": null,
      "outputs": [
        {
          "output_type": "stream",
          "name": "stdout",
          "text": [
            "Traceback (most recent call last):\n",
            "  File \"/usr/local/bin/pip3\", line 5, in <module>\n",
            "    from pip._internal.cli.main import main\n",
            "  File \"/usr/lib/python3/dist-packages/pip/_internal/cli/main.py\", line 9, in <module>\n",
            "    from pip._internal.cli.autocompletion import autocomplete\n",
            "  File \"/usr/lib/python3/dist-packages/pip/_internal/cli/autocompletion.py\", line 10, in <module>\n",
            "    from pip._internal.cli.main_parser import create_main_parser\n",
            "  File \"/usr/lib/python3/dist-packages/pip/_internal/cli/main_parser.py\", line 8, in <module>\n",
            "    from pip._internal.cli import cmdoptions\n",
            "  File \"/usr/lib/python3/dist-packages/pip/_internal/cli/cmdoptions.py\", line 23, in <module>\n",
            "    from pip._internal.cli.parser import ConfigOptionParser\n",
            "  File \"/usr/lib/python3/dist-packages/pip/_internal/cli/parser.py\", line 12, in <module>\n",
            "    from pip._internal.configuration import Configuration, ConfigurationError\n",
            "  File \"/usr/lib/python3/dist-packages/pip/_internal/configuration.py\", line 26, in <module>\n",
            "    from pip._internal.utils.logging import getLogger\n",
            "  File \"/usr/lib/python3/dist-packages/pip/_internal/utils/logging.py\", line 27, in <module>\n",
            "    from pip._internal.utils.misc import ensure_dir\n",
            "  File \"/usr/lib/python3/dist-packages/pip/_internal/utils/misc.py\", line 39, in <module>\n",
            "    from pip._internal.locations import get_major_minor_version\n",
            "  File \"/usr/lib/python3/dist-packages/pip/_internal/locations/__init__.py\", line 14, in <module>\n",
            "    from . import _distutils, _sysconfig\n",
            "  File \"/usr/lib/python3/dist-packages/pip/_internal/locations/_distutils.py\", line 9, in <module>\n",
            "    from distutils.cmd import Command as DistutilsCommand\n",
            "ModuleNotFoundError: No module named 'distutils.cmd'\n"
          ]
        }
      ]
    },
    {
      "cell_type": "code",
      "source": [
        "!pip install -r requirements.txt"
      ],
      "metadata": {
        "colab": {
          "base_uri": "https://localhost:8080/"
        },
        "id": "OZ0uK3sY2Zxe",
        "outputId": "c0b817fc-d8cb-4cc9-dbf8-0a824197375b"
      },
      "execution_count": null,
      "outputs": [
        {
          "output_type": "stream",
          "name": "stdout",
          "text": [
            "Traceback (most recent call last):\n",
            "  File \"/usr/local/bin/pip3\", line 5, in <module>\n",
            "    from pip._internal.cli.main import main\n",
            "  File \"/usr/lib/python3/dist-packages/pip/_internal/cli/main.py\", line 9, in <module>\n",
            "    from pip._internal.cli.autocompletion import autocomplete\n",
            "  File \"/usr/lib/python3/dist-packages/pip/_internal/cli/autocompletion.py\", line 10, in <module>\n",
            "    from pip._internal.cli.main_parser import create_main_parser\n",
            "  File \"/usr/lib/python3/dist-packages/pip/_internal/cli/main_parser.py\", line 8, in <module>\n",
            "    from pip._internal.cli import cmdoptions\n",
            "  File \"/usr/lib/python3/dist-packages/pip/_internal/cli/cmdoptions.py\", line 23, in <module>\n",
            "    from pip._internal.cli.parser import ConfigOptionParser\n",
            "  File \"/usr/lib/python3/dist-packages/pip/_internal/cli/parser.py\", line 12, in <module>\n",
            "    from pip._internal.configuration import Configuration, ConfigurationError\n",
            "  File \"/usr/lib/python3/dist-packages/pip/_internal/configuration.py\", line 26, in <module>\n",
            "    from pip._internal.utils.logging import getLogger\n",
            "  File \"/usr/lib/python3/dist-packages/pip/_internal/utils/logging.py\", line 27, in <module>\n",
            "    from pip._internal.utils.misc import ensure_dir\n",
            "  File \"/usr/lib/python3/dist-packages/pip/_internal/utils/misc.py\", line 39, in <module>\n",
            "    from pip._internal.locations import get_major_minor_version\n",
            "  File \"/usr/lib/python3/dist-packages/pip/_internal/locations/__init__.py\", line 14, in <module>\n",
            "    from . import _distutils, _sysconfig\n",
            "  File \"/usr/lib/python3/dist-packages/pip/_internal/locations/_distutils.py\", line 9, in <module>\n",
            "    from distutils.cmd import Command as DistutilsCommand\n",
            "ModuleNotFoundError: No module named 'distutils.cmd'\n"
          ]
        }
      ]
    },
    {
      "cell_type": "code",
      "source": [
        "!pip install cython\n",
        "!pip install git+https://github.com/cocodataset/cocoapi.git#subdirectory=PythonAPI\n"
      ],
      "metadata": {
        "colab": {
          "base_uri": "https://localhost:8080/"
        },
        "id": "bdJUWBTx2tKt",
        "outputId": "d13c33a0-243d-4572-f45e-92d48cc238e5"
      },
      "execution_count": null,
      "outputs": [
        {
          "output_type": "stream",
          "name": "stdout",
          "text": [
            "Requirement already satisfied: cython in /usr/local/lib/python3.10/site-packages (3.0.10)\n",
            "\u001b[33mWARNING: Running pip as the 'root' user can result in broken permissions and conflicting behaviour with the system package manager. It is recommended to use a virtual environment instead: https://pip.pypa.io/warnings/venv\u001b[0m\u001b[33m\n",
            "\u001b[0mCollecting git+https://github.com/cocodataset/cocoapi.git#subdirectory=PythonAPI\n",
            "  Cloning https://github.com/cocodataset/cocoapi.git to /tmp/pip-req-build-zousdxn8\n",
            "  Running command git clone --filter=blob:none --quiet https://github.com/cocodataset/cocoapi.git /tmp/pip-req-build-zousdxn8\n",
            "  Resolved https://github.com/cocodataset/cocoapi.git to commit 8c9bcc3cf640524c4c20a9c40e89cb6a2f2fa0e9\n",
            "  Preparing metadata (setup.py) ... \u001b[?25l\u001b[?25hdone\n",
            "Requirement already satisfied: setuptools>=18.0 in /usr/local/lib/python3.10/site-packages (from pycocotools==2.0) (68.2.2)\n",
            "Requirement already satisfied: cython>=0.27.3 in /usr/local/lib/python3.10/site-packages (from pycocotools==2.0) (3.0.10)\n",
            "Requirement already satisfied: matplotlib>=2.1.0 in /usr/local/lib/python3.10/site-packages (from pycocotools==2.0) (3.9.0)\n",
            "Requirement already satisfied: contourpy>=1.0.1 in /usr/local/lib/python3.10/site-packages (from matplotlib>=2.1.0->pycocotools==2.0) (1.2.1)\n",
            "Requirement already satisfied: cycler>=0.10 in /usr/local/lib/python3.10/site-packages (from matplotlib>=2.1.0->pycocotools==2.0) (0.12.1)\n",
            "Requirement already satisfied: fonttools>=4.22.0 in /usr/local/lib/python3.10/site-packages (from matplotlib>=2.1.0->pycocotools==2.0) (4.53.0)\n",
            "Requirement already satisfied: kiwisolver>=1.3.1 in /usr/local/lib/python3.10/site-packages (from matplotlib>=2.1.0->pycocotools==2.0) (1.4.5)\n",
            "Requirement already satisfied: numpy>=1.23 in /usr/local/lib/python3.10/site-packages (from matplotlib>=2.1.0->pycocotools==2.0) (1.26.4)\n",
            "Requirement already satisfied: packaging>=20.0 in /usr/local/lib/python3.10/site-packages (from matplotlib>=2.1.0->pycocotools==2.0) (23.2)\n",
            "Requirement already satisfied: pillow>=8 in /usr/local/lib/python3.10/site-packages (from matplotlib>=2.1.0->pycocotools==2.0) (9.4.0)\n",
            "Requirement already satisfied: pyparsing>=2.3.1 in /usr/local/lib/python3.10/site-packages (from matplotlib>=2.1.0->pycocotools==2.0) (3.1.2)\n",
            "Requirement already satisfied: python-dateutil>=2.7 in /usr/local/lib/python3.10/site-packages (from matplotlib>=2.1.0->pycocotools==2.0) (2.9.0.post0)\n",
            "Requirement already satisfied: six>=1.5 in /usr/local/lib/python3.10/site-packages (from python-dateutil>=2.7->matplotlib>=2.1.0->pycocotools==2.0) (1.16.0)\n",
            "\u001b[33mWARNING: Running pip as the 'root' user can result in broken permissions and conflicting behaviour with the system package manager. It is recommended to use a virtual environment instead: https://pip.pypa.io/warnings/venv\u001b[0m\u001b[33m\n",
            "\u001b[0m"
          ]
        }
      ]
    },
    {
      "cell_type": "code",
      "source": [
        "!pip install cython_bbox\n",
        "!pip install faiss-cpu\n",
        "!pip install faiss-gpu"
      ],
      "metadata": {
        "colab": {
          "base_uri": "https://localhost:8080/"
        },
        "id": "-O5s8t0124PE",
        "outputId": "0410464e-beb0-42f0-ca01-23fbfc447ba4"
      },
      "execution_count": null,
      "outputs": [
        {
          "output_type": "stream",
          "name": "stdout",
          "text": [
            "Requirement already satisfied: cython_bbox in /usr/local/lib/python3.10/site-packages (0.1.5)\n",
            "Requirement already satisfied: Cython in /usr/local/lib/python3.10/site-packages (from cython_bbox) (3.0.10)\n",
            "Requirement already satisfied: numpy in /usr/local/lib/python3.10/site-packages (from cython_bbox) (1.26.4)\n",
            "\u001b[33mWARNING: Running pip as the 'root' user can result in broken permissions and conflicting behaviour with the system package manager. It is recommended to use a virtual environment instead: https://pip.pypa.io/warnings/venv\u001b[0m\u001b[33m\n",
            "\u001b[0mRequirement already satisfied: faiss-cpu in /usr/local/lib/python3.10/site-packages (1.8.0)\n",
            "Requirement already satisfied: numpy in /usr/local/lib/python3.10/site-packages (from faiss-cpu) (1.26.4)\n",
            "\u001b[33mWARNING: Running pip as the 'root' user can result in broken permissions and conflicting behaviour with the system package manager. It is recommended to use a virtual environment instead: https://pip.pypa.io/warnings/venv\u001b[0m\u001b[33m\n",
            "\u001b[0mRequirement already satisfied: faiss-gpu in /usr/local/lib/python3.10/site-packages (1.7.2)\n",
            "\u001b[33mWARNING: Running pip as the 'root' user can result in broken permissions and conflicting behaviour with the system package manager. It is recommended to use a virtual environment instead: https://pip.pypa.io/warnings/venv\u001b[0m\u001b[33m\n",
            "\u001b[0m"
          ]
        }
      ]
    },
    {
      "cell_type": "markdown",
      "source": [
        "將訓練完成的ReID模型與YOLO模型放入`\\trained_model`資料夾中  "
      ],
      "metadata": {
        "id": "wkb9klKwzl3B"
      }
    },
    {
      "cell_type": "markdown",
      "source": [
        "執行追蹤模型 (相當於Windows執行track_all_timestamps_example_test.bat)"
      ],
      "metadata": {
        "id": "ApGJWJDt0Nk9"
      }
    },
    {
      "cell_type": "code",
      "source": [
        "import os\n",
        "\n",
        "# 設置環境變量\n",
        "source_dir_names = [\n",
        "    \"0902_130006_131041\", \"0902_180000_181551\", \"0903_125957_131610\", \"0903_175958_181607\",\n",
        "    \"0924_125953_132551\", \"0924_175955_181603\", \"0925_130000_131605\", \"0925_175958_181604\",\n",
        "    \"1001_130000_131559\", \"1001_180000_181558\", \"1002_130000_131600\", \"1002_180000_181600\",\n",
        "    \"1015_130000_131600\", \"1015_180001_183846\", \"1016_130000_131600\", \"1016_180000_181600\"\n",
        "]\n",
        "yolo_model = \"trained_model/yolo_car_detection_model.pt\"\n",
        "reid_weight_dir = \"trained_model/reid_extractor_model.pth\"\n",
        "\n",
        "# 確保Python腳本具有可執行權限\n",
        "os.system('chmod +x tools/mc_demo_yolov7.py')\n",
        "os.system('chmod +x auto_evalute_results.py')\n",
        "\n",
        "# 遍歷每個時間區間並執行Python腳本\n",
        "for s in source_dir_names:\n",
        "    print(s)\n",
        "    command = f\"\"\"\n",
        "    !python tools/mc_demo_yolov7.py \\\n",
        "        --weights {yolo_model} \\\n",
        "        --source \"/content/drive/MyDrive/Colab Notebooks/AI CUP/images/{s}\" \\\n",
        "        --device \"0\" --name \"{s}\" \\\n",
        "        --fuse-score --agnostic-nms \\\n",
        "        --with-reid --fast-reid-config \"configs/VehicleID_with_data_augmentation.yml\" \\\n",
        "        --fast-reid-weights {reid_weight_dir} \\\n",
        "        --MMD_max 3000 \\\n",
        "        --MMD_mask 0.7 \\\n",
        "        --MMD_thresh 0.1 \\\n",
        "        --ReID_mask 0.3 \\\n",
        "        --ReID_thresh 0.25\n",
        "    \"\"\"\n",
        "    os.system(command)\n",
        "\n",
        "# 執行自動評估腳本\n",
        "os.system('python tools/auto_evalute_results.py')\n"
      ],
      "metadata": {
        "colab": {
          "base_uri": "https://localhost:8080/"
        },
        "id": "ENPaarPfzwAP",
        "outputId": "ff52e60f-91a2-425f-fbe9-a1974c66de40"
      },
      "execution_count": null,
      "outputs": [
        {
          "output_type": "stream",
          "name": "stdout",
          "text": [
            "0902_130006_131041\n",
            "0902_180000_181551\n",
            "0903_125957_131610\n",
            "0903_175958_181607\n",
            "0924_125953_132551\n",
            "0924_175955_181603\n",
            "0925_130000_131605\n",
            "0925_175958_181604\n",
            "1001_130000_131559\n",
            "1001_180000_181558\n",
            "1002_130000_131600\n",
            "1002_180000_181600\n",
            "1015_130000_131600\n",
            "1015_180001_183846\n",
            "1016_130000_131600\n",
            "1016_180000_181600\n"
          ]
        },
        {
          "output_type": "execute_result",
          "data": {
            "text/plain": [
              "0"
            ]
          },
          "metadata": {},
          "execution_count": 29
        }
      ]
    },
    {
      "cell_type": "code",
      "source": [
        "!pip install mkl==2024.0"
      ],
      "metadata": {
        "colab": {
          "base_uri": "https://localhost:8080/"
        },
        "id": "k9_oQjiPBpbu",
        "outputId": "84a38b6d-915b-4c96-8a7e-d9d6150c41cf"
      },
      "execution_count": null,
      "outputs": [
        {
          "output_type": "stream",
          "name": "stdout",
          "text": [
            "Collecting mkl==2024.0\n",
            "  Downloading mkl-2024.0.0-py2.py3-none-manylinux1_x86_64.whl.metadata (1.4 kB)\n",
            "Requirement already satisfied: intel-openmp==2024.* in /usr/local/lib/python3.10/site-packages (from mkl==2024.0) (2024.1.2)\n",
            "Requirement already satisfied: tbb==2021.* in /usr/local/lib/python3.10/site-packages (from mkl==2024.0) (2021.12.0)\n",
            "Downloading mkl-2024.0.0-py2.py3-none-manylinux1_x86_64.whl (200.7 MB)\n",
            "\u001b[2K   \u001b[90m━━━━━━━━━━━━━━━━━━━━━━━━━━━━━━━━━━━━━━━━\u001b[0m \u001b[32m200.7/200.7 MB\u001b[0m \u001b[31m6.2 MB/s\u001b[0m eta \u001b[36m0:00:00\u001b[0m\n",
            "\u001b[?25hInstalling collected packages: mkl\n",
            "  Attempting uninstall: mkl\n",
            "    Found existing installation: mkl 2024.1.0\n",
            "    Uninstalling mkl-2024.1.0:\n",
            "      Successfully uninstalled mkl-2024.1.0\n",
            "Successfully installed mkl-2024.0.0\n",
            "\u001b[33mWARNING: Running pip as the 'root' user can result in broken permissions and conflicting behaviour with the system package manager. It is recommended to use a virtual environment instead: https://pip.pypa.io/warnings/venv\u001b[0m\u001b[33m\n",
            "\u001b[0m"
          ]
        }
      ]
    },
    {
      "cell_type": "code",
      "source": [
        "!pip install collections"
      ],
      "metadata": {
        "colab": {
          "base_uri": "https://localhost:8080/"
        },
        "id": "tYOqdZH2DDqV",
        "outputId": "885808e6-134a-422f-b13c-443338dea14f"
      },
      "execution_count": null,
      "outputs": [
        {
          "output_type": "stream",
          "name": "stdout",
          "text": [
            "\u001b[31mERROR: Could not find a version that satisfies the requirement collections (from versions: none)\u001b[0m\u001b[31m\n",
            "\u001b[0m\u001b[31mERROR: No matching distribution found for collections\u001b[0m\u001b[31m\n",
            "\u001b[0m"
          ]
        }
      ]
    },
    {
      "cell_type": "code",
      "source": [
        "\n",
        "!python tools/mc_demo_yolov7.py \\\n",
        "        --weights trained_model/yolo_car_detection_model.pt \\\n",
        "        --source \"/content/drive/MyDrive/Colab Notebooks/AI CUP/images/0902_130006_131041\" \\\n",
        "        --device \"0\" --name \"0902_130006_131041\" \\\n",
        "        --fuse-score --agnostic-nms \\\n",
        "        --with-reid --fast-reid-config \"configs/VehicleID_with_data_augmentation.yml\" \\\n",
        "        --fast-reid-weights \"trained_model/reid_extractor_model.pth\" \\\n",
        "        --MMD_max 3000 \\\n",
        "        --MMD_mask 0.7 \\\n",
        "        --MMD_thresh 0.1 \\\n",
        "        --ReID_mask 0.3 \\\n",
        "        --ReID_thresh 0.25"
      ],
      "metadata": {
        "id": "sh7qG1K9j-TU",
        "colab": {
          "base_uri": "https://localhost:8080/"
        },
        "outputId": "6418d6c3-d75f-4135-b5b9-7fc36ea6b2f8"
      },
      "execution_count": null,
      "outputs": [
        {
          "output_type": "stream",
          "name": "stdout",
          "text": [
            "/usr/local/lib/python3.10/site-packages/threadpoolctl.py:1214: RuntimeWarning: \n",
            "Found Intel OpenMP ('libiomp') and LLVM OpenMP ('libomp') loaded at\n",
            "the same time. Both libraries are known to be incompatible and this\n",
            "can cause random crashes or deadlocks on Linux when loaded in the\n",
            "same Python program.\n",
            "Using threadpoolctl may cause crashes or deadlocks. For more\n",
            "information and possible workarounds, please see\n",
            "    https://github.com/joblib/threadpoolctl/blob/master/multiple_openmp.md\n",
            "\n",
            "  warnings.warn(msg, RuntimeWarning)\n",
            "Traceback (most recent call last):\n",
            "  File \"/content/aicup-multi-camera-vehicle-tracking/tools/mc_demo_yolov7.py\", line 24, in <module>\n",
            "    from tracker.mc_bot_sort import BoTSORT\n",
            "  File \"/content/aicup-multi-camera-vehicle-tracking/./tracker/mc_bot_sort.py\", line 11, in <module>\n",
            "    from fast_reid.fast_reid_interfece import FastReIDInterface\n",
            "  File \"/content/aicup-multi-camera-vehicle-tracking/./fast_reid/fast_reid_interfece.py\", line 11, in <module>\n",
            "    from fast_reid.fastreid.engine import DefaultTrainer, default_argument_parser, default_setup, launch\n",
            "  File \"/content/aicup-multi-camera-vehicle-tracking/./fast_reid/fastreid/engine/__init__.py\", line 13, in <module>\n",
            "    from .hooks import *\n",
            "  File \"/content/aicup-multi-camera-vehicle-tracking/./fast_reid/fastreid/engine/hooks.py\", line 16, in <module>\n",
            "    from fast_reid.fastreid.evaluation.testing import flatten_results_dict\n",
            "  File \"/content/aicup-multi-camera-vehicle-tracking/./fast_reid/fastreid/evaluation/__init__.py\", line 4, in <module>\n",
            "    from .testing import print_csv_format, verify_results\n",
            "  File \"/content/aicup-multi-camera-vehicle-tracking/./fast_reid/fastreid/evaluation/testing.py\", line 5, in <module>\n",
            "    from collections import Mapping, OrderedDict\n",
            "ImportError: cannot import name 'Mapping' from 'collections' (/usr/local/lib/python3.10/collections/__init__.py)\n"
          ]
        }
      ]
    },
    {
      "cell_type": "code",
      "source": [
        "!python -V"
      ],
      "metadata": {
        "colab": {
          "base_uri": "https://localhost:8080/"
        },
        "id": "cqCQCeIEDj-P",
        "outputId": "3048dff3-62f7-4081-ed23-fd4a38acc36b"
      },
      "execution_count": null,
      "outputs": [
        {
          "output_type": "stream",
          "name": "stdout",
          "text": [
            "Python 3.10.13\n"
          ]
        }
      ]
    }
  ],
  "metadata": {
    "accelerator": "GPU",
    "colab": {
      "gpuType": "T4",
      "provenance": [],
      "mount_file_id": "1ZZhmPIiDqq1tpYTjo-Kzg2kAKK-6LOWF",
      "authorship_tag": "ABX9TyNnnarWquYzQ33M10+EfuWy",
      "include_colab_link": true
    },
    "kernelspec": {
      "display_name": "Python 3",
      "name": "python3"
    },
    "language_info": {
      "name": "python"
    }
  },
  "nbformat": 4,
  "nbformat_minor": 0
}